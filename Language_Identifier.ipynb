{
  "nbformat": 4,
  "nbformat_minor": 0,
  "metadata": {
    "colab": {
      "name": "Language-Identifier.ipynb",
      "provenance": [],
      "collapsed_sections": []
    },
    "kernelspec": {
      "name": "python3",
      "display_name": "Python 3"
    },
    "language_info": {
      "name": "python"
    },
    "accelerator": "GPU"
  },
  "cells": [
    {
      "cell_type": "code",
      "metadata": {
        "id": "aodnjpkqETrJ"
      },
      "source": [
        "import numpy as np\n",
        "import pandas as pd\n",
        "import matplotlib.pyplot as plt\n",
        "import seaborn as sns\n",
        "import re\n",
        "import string\n",
        "import tensorflow as tf\n",
        "from tensorflow.keras.preprocessing.text import Tokenizer\n",
        "from tensorflow.keras.preprocessing.sequence import pad_sequences"
      ],
      "execution_count": 43,
      "outputs": []
    },
    {
      "cell_type": "code",
      "metadata": {
        "id": "RHoCPMDdNIUv"
      },
      "source": [
        "df = pd.read_csv('/content/drive/MyDrive/Dataset/Language Detection.csv')"
      ],
      "execution_count": 44,
      "outputs": []
    },
    {
      "cell_type": "code",
      "metadata": {
        "colab": {
          "base_uri": "https://localhost:8080/",
          "height": 362
        },
        "id": "n6bbQHAdNe6g",
        "outputId": "018c7188-b505-4da9-f97a-2251e0720f82"
      },
      "source": [
        "df.head(10)"
      ],
      "execution_count": 45,
      "outputs": [
        {
          "output_type": "execute_result",
          "data": {
            "text/html": [
              "<div>\n",
              "<style scoped>\n",
              "    .dataframe tbody tr th:only-of-type {\n",
              "        vertical-align: middle;\n",
              "    }\n",
              "\n",
              "    .dataframe tbody tr th {\n",
              "        vertical-align: top;\n",
              "    }\n",
              "\n",
              "    .dataframe thead th {\n",
              "        text-align: right;\n",
              "    }\n",
              "</style>\n",
              "<table border=\"1\" class=\"dataframe\">\n",
              "  <thead>\n",
              "    <tr style=\"text-align: right;\">\n",
              "      <th></th>\n",
              "      <th>Text</th>\n",
              "      <th>Language</th>\n",
              "    </tr>\n",
              "  </thead>\n",
              "  <tbody>\n",
              "    <tr>\n",
              "      <th>0</th>\n",
              "      <td>Nature, in the broadest sense, is the natural...</td>\n",
              "      <td>English</td>\n",
              "    </tr>\n",
              "    <tr>\n",
              "      <th>1</th>\n",
              "      <td>\"Nature\" can refer to the phenomena of the phy...</td>\n",
              "      <td>English</td>\n",
              "    </tr>\n",
              "    <tr>\n",
              "      <th>2</th>\n",
              "      <td>The study of nature is a large, if not the onl...</td>\n",
              "      <td>English</td>\n",
              "    </tr>\n",
              "    <tr>\n",
              "      <th>3</th>\n",
              "      <td>Although humans are part of nature, human acti...</td>\n",
              "      <td>English</td>\n",
              "    </tr>\n",
              "    <tr>\n",
              "      <th>4</th>\n",
              "      <td>[1] The word nature is borrowed from the Old F...</td>\n",
              "      <td>English</td>\n",
              "    </tr>\n",
              "    <tr>\n",
              "      <th>5</th>\n",
              "      <td>[2] In ancient philosophy, natura is mostly us...</td>\n",
              "      <td>English</td>\n",
              "    </tr>\n",
              "    <tr>\n",
              "      <th>6</th>\n",
              "      <td>[3][4] \\nThe concept of nature as a whole, the...</td>\n",
              "      <td>English</td>\n",
              "    </tr>\n",
              "    <tr>\n",
              "      <th>7</th>\n",
              "      <td>During the advent of modern scientific method ...</td>\n",
              "      <td>English</td>\n",
              "    </tr>\n",
              "    <tr>\n",
              "      <th>8</th>\n",
              "      <td>[5][6] With the Industrial revolution, nature ...</td>\n",
              "      <td>English</td>\n",
              "    </tr>\n",
              "    <tr>\n",
              "      <th>9</th>\n",
              "      <td>However, a vitalist vision of nature, closer t...</td>\n",
              "      <td>English</td>\n",
              "    </tr>\n",
              "  </tbody>\n",
              "</table>\n",
              "</div>"
            ],
            "text/plain": [
              "                                                Text Language\n",
              "0   Nature, in the broadest sense, is the natural...  English\n",
              "1  \"Nature\" can refer to the phenomena of the phy...  English\n",
              "2  The study of nature is a large, if not the onl...  English\n",
              "3  Although humans are part of nature, human acti...  English\n",
              "4  [1] The word nature is borrowed from the Old F...  English\n",
              "5  [2] In ancient philosophy, natura is mostly us...  English\n",
              "6  [3][4] \\nThe concept of nature as a whole, the...  English\n",
              "7  During the advent of modern scientific method ...  English\n",
              "8  [5][6] With the Industrial revolution, nature ...  English\n",
              "9  However, a vitalist vision of nature, closer t...  English"
            ]
          },
          "metadata": {},
          "execution_count": 45
        }
      ]
    },
    {
      "cell_type": "code",
      "metadata": {
        "id": "PTAs2G8VEwj1"
      },
      "source": [
        "def remove_whitespace(text):\n",
        "  return \" \".join(text.split())\n",
        "\n",
        "def remove_url(text):\n",
        "  return re.sub(r'http|https|www|xxx\\S+', '', text)\n",
        "\n",
        "def remove_special_char(text):\n",
        "  return re.sub(r\"[^a-zA-Z0-9]\",\" \",text)\n",
        "  \n",
        "def valid_character_filtering(text):\n",
        "  return \"\".join(filter(lambda char: char in string.printable, text))\n",
        "\n",
        "def remove_long_number(text):\n",
        "  result = re.sub(r'\\d+', '', text)\n",
        "  return result\n",
        "\n",
        "def remove_punctuation(text):\n",
        "  result=re.sub(r\"[^\\w\\s]\",\" \",text)\n",
        "  return result"
      ],
      "execution_count": 46,
      "outputs": []
    },
    {
      "cell_type": "code",
      "metadata": {
        "id": "99MG-f6PFq_f"
      },
      "source": [
        "df['Text'] = df['Text'].apply(lambda x:x.lower())\n",
        "df['Text'] = df['Text'].apply(remove_whitespace)\n",
        "df['Text'] = df['Text'].apply(remove_url)\n",
        "df['Text'] = df['Text'].apply(remove_special_char)\n",
        "df['Text'] = df['Text'].apply(valid_character_filtering)\n",
        "df['Text'] = df['Text'].apply(remove_long_number)\n",
        "df['Text'] = df['Text'].apply(remove_punctuation)"
      ],
      "execution_count": 47,
      "outputs": []
    },
    {
      "cell_type": "code",
      "metadata": {
        "colab": {
          "base_uri": "https://localhost:8080/"
        },
        "id": "bgTwcdiTLJwS",
        "outputId": "72d678e9-8aed-412f-e418-600db1f0512e"
      },
      "source": [
        "df['Language'].value_counts()"
      ],
      "execution_count": 48,
      "outputs": [
        {
          "output_type": "execute_result",
          "data": {
            "text/plain": [
              "English       1385\n",
              "French        1014\n",
              "Spanish        819\n",
              "Portugeese     739\n",
              "Italian        698\n",
              "Russian        692\n",
              "Sweedish       676\n",
              "Malayalam      594\n",
              "Dutch          546\n",
              "Arabic         536\n",
              "Turkish        474\n",
              "German         470\n",
              "Tamil          469\n",
              "Danish         428\n",
              "Kannada        369\n",
              "Greek          365\n",
              "Hindi           63\n",
              "Name: Language, dtype: int64"
            ]
          },
          "metadata": {},
          "execution_count": 48
        }
      ]
    },
    {
      "cell_type": "code",
      "metadata": {
        "id": "JamnsIiyQ2Uk"
      },
      "source": [
        "x = df[\"Text\"]\n",
        "y = df[\"Language\"]"
      ],
      "execution_count": 49,
      "outputs": []
    },
    {
      "cell_type": "code",
      "metadata": {
        "id": "udRWwFwGQ4MB"
      },
      "source": [
        "from sklearn.preprocessing import LabelEncoder\n",
        "le = LabelEncoder()\n",
        "y = le.fit_transform(y)"
      ],
      "execution_count": 50,
      "outputs": []
    },
    {
      "cell_type": "code",
      "metadata": {
        "id": "eU5Lg0lCP_C4"
      },
      "source": [
        "X = []\n",
        "for text in x:\n",
        "        text = text.lower()\n",
        "        X.append(text)"
      ],
      "execution_count": 51,
      "outputs": []
    },
    {
      "cell_type": "code",
      "metadata": {
        "id": "UPCzHSwkRISn"
      },
      "source": [
        "tokenizer = Tokenizer(num_words=10000, oov_token=\"<OOV>\")\n",
        "tokenizer.fit_on_texts(X)\n",
        "word_index = tokenizer.word_index\n",
        "training_sequences = tokenizer.texts_to_sequences(X)\n",
        "training_padded = pad_sequences(training_sequences, maxlen=100, padding='post', truncating='post')"
      ],
      "execution_count": 53,
      "outputs": []
    },
    {
      "cell_type": "code",
      "metadata": {
        "id": "Ao0lwbdYRPXp"
      },
      "source": [
        "training_padded = np.array(training_padded)\n",
        "training_labels = np.array(y)"
      ],
      "execution_count": 54,
      "outputs": []
    },
    {
      "cell_type": "code",
      "metadata": {
        "colab": {
          "base_uri": "https://localhost:8080/"
        },
        "id": "kibZG1buRRRe",
        "outputId": "822eb1ff-1f41-451f-aec7-da25a633e00a"
      },
      "source": [
        "model = tf.keras.Sequential()\n",
        "model.add(tf.keras.layers.Embedding(10000,16,input_length=100))\n",
        "model.add(tf.keras.layers.Bidirectional(tf.keras.layers.GRU(25,return_sequences=True,activation='tanh')))\n",
        "model.add(tf.keras.layers.Bidirectional(tf.keras.layers.GRU(25,return_sequences=True,activation='tanh')))\n",
        "model.add(tf.keras.layers.GlobalAveragePooling1D())\n",
        "model.add(tf.keras.layers.Flatten())\n",
        "model.add(tf.keras.layers.Dense(50,activation='relu'))\n",
        "model.add(tf.keras.layers.Dense(25,activation='relu'))\n",
        "model.add(tf.keras.layers.Dense(17,activation='softmax'))\n",
        "model.compile(loss='sparse_categorical_crossentropy',optimizer='adam',metrics=['accuracy'])\n",
        "model.summary()"
      ],
      "execution_count": 94,
      "outputs": [
        {
          "output_type": "stream",
          "name": "stdout",
          "text": [
            "Model: \"sequential_18\"\n",
            "_________________________________________________________________\n",
            "Layer (type)                 Output Shape              Param #   \n",
            "=================================================================\n",
            "embedding_18 (Embedding)     (None, 100, 16)           160000    \n",
            "_________________________________________________________________\n",
            "bidirectional_2 (Bidirection (None, 100, 50)           6450      \n",
            "_________________________________________________________________\n",
            "bidirectional_3 (Bidirection (None, 100, 50)           11550     \n",
            "_________________________________________________________________\n",
            "global_average_pooling1d_8 ( (None, 50)                0         \n",
            "_________________________________________________________________\n",
            "flatten_8 (Flatten)          (None, 50)                0         \n",
            "_________________________________________________________________\n",
            "dense_38 (Dense)             (None, 50)                2550      \n",
            "_________________________________________________________________\n",
            "dense_39 (Dense)             (None, 25)                1275      \n",
            "_________________________________________________________________\n",
            "dense_40 (Dense)             (None, 17)                442       \n",
            "=================================================================\n",
            "Total params: 182,267\n",
            "Trainable params: 182,267\n",
            "Non-trainable params: 0\n",
            "_________________________________________________________________\n"
          ]
        }
      ]
    },
    {
      "cell_type": "code",
      "metadata": {
        "colab": {
          "base_uri": "https://localhost:8080/"
        },
        "id": "oqAMGW2tRTjk",
        "outputId": "d644ece3-6e6b-4a41-9e16-32ffb4bbd863"
      },
      "source": [
        "history = model.fit(training_padded, training_labels, epochs=10, verbose=1)"
      ],
      "execution_count": 103,
      "outputs": [
        {
          "output_type": "stream",
          "name": "stdout",
          "text": [
            "Epoch 1/10\n",
            "324/324 [==============================] - 26s 79ms/step - loss: 0.5460 - accuracy: 0.7635\n",
            "Epoch 2/10\n",
            "324/324 [==============================] - 26s 79ms/step - loss: 0.5447 - accuracy: 0.7625\n",
            "Epoch 3/10\n",
            "324/324 [==============================] - 26s 79ms/step - loss: 0.5489 - accuracy: 0.7639\n",
            "Epoch 4/10\n",
            "324/324 [==============================] - 26s 79ms/step - loss: 0.5547 - accuracy: 0.7650\n",
            "Epoch 5/10\n",
            "324/324 [==============================] - 26s 79ms/step - loss: 0.5439 - accuracy: 0.7654\n",
            "Epoch 6/10\n",
            "324/324 [==============================] - 26s 79ms/step - loss: 0.5428 - accuracy: 0.7646\n",
            "Epoch 7/10\n",
            "324/324 [==============================] - 26s 79ms/step - loss: 0.5449 - accuracy: 0.7688\n",
            "Epoch 8/10\n",
            "324/324 [==============================] - 26s 79ms/step - loss: 0.5423 - accuracy: 0.7663\n",
            "Epoch 9/10\n",
            "324/324 [==============================] - 26s 79ms/step - loss: 0.5418 - accuracy: 0.7689\n",
            "Epoch 10/10\n",
            "324/324 [==============================] - 26s 79ms/step - loss: 0.5429 - accuracy: 0.7646\n"
          ]
        }
      ]
    },
    {
      "cell_type": "code",
      "metadata": {
        "id": "-vLDhRXTWhs1",
        "colab": {
          "base_uri": "https://localhost:8080/"
        },
        "outputId": "88118822-4090-44cb-892e-608fead42315"
      },
      "source": [
        "def predict(text):\n",
        "     sequences = tokenizer.texts_to_sequences([text])\n",
        "     padded = pad_sequences(sequences, maxlen=100, padding='post', truncating='post')\n",
        "     res = model.predict(padded)\n",
        "     res = np.argmax(res)\n",
        "     lang = le.inverse_transform([res])\n",
        "     print(\"The langauge is in\",lang[0])\n",
        "\n",
        "predict(\" It was an awesome experience\")\n",
        "predict('Bien, merci. Et vous-même ?')\n",
        "predict('Hola, me llamo Juan')"
      ],
      "execution_count": 110,
      "outputs": [
        {
          "output_type": "stream",
          "name": "stdout",
          "text": [
            "The langauge is in English\n",
            "The langauge is in French\n",
            "The langauge is in Spanish\n"
          ]
        }
      ]
    },
    {
      "cell_type": "code",
      "metadata": {
        "id": "svjyu009cwlx"
      },
      "source": [
        ""
      ],
      "execution_count": null,
      "outputs": []
    }
  ]
}